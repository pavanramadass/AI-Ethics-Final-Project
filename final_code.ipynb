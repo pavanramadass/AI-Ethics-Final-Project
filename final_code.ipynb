{
 "cells": [
  {
   "cell_type": "markdown",
   "id": "4ed96e78-dc43-4faa-b3dd-3e1c73b9dacb",
   "metadata": {},
   "source": [
    "# Step 2"
   ]
  },
  {
   "cell_type": "code",
   "execution_count": 35,
   "id": "d4e46350-8be2-462e-854d-9aca92104922",
   "metadata": {},
   "outputs": [],
   "source": [
    "import pandas as pd\n",
    "import numpy as np\n",
    "from sklearn.model_selection import train_test_split\n",
    "from sklearn.metrics import accuracy_score\n",
    "from aif360.metrics import BinaryLabelDatasetMetric\n",
    "from aif360.datasets import BinaryLabelDataset\n",
    "from sklearn.ensemble import RandomForestClassifier"
   ]
  },
  {
   "cell_type": "code",
   "execution_count": 36,
   "id": "c62e07ee-674d-424c-b867-36a13996386b",
   "metadata": {},
   "outputs": [
    {
     "data": {
      "text/html": [
       "<div>\n",
       "<style scoped>\n",
       "    .dataframe tbody tr th:only-of-type {\n",
       "        vertical-align: middle;\n",
       "    }\n",
       "\n",
       "    .dataframe tbody tr th {\n",
       "        vertical-align: top;\n",
       "    }\n",
       "\n",
       "    .dataframe thead th {\n",
       "        text-align: right;\n",
       "    }\n",
       "</style>\n",
       "<table border=\"1\" class=\"dataframe\">\n",
       "  <thead>\n",
       "    <tr style=\"text-align: right;\">\n",
       "      <th></th>\n",
       "      <th>gender</th>\n",
       "      <th>race/ethnicity</th>\n",
       "      <th>parental level of education</th>\n",
       "      <th>lunch</th>\n",
       "      <th>test preparation course</th>\n",
       "      <th>math score</th>\n",
       "      <th>reading score</th>\n",
       "      <th>writing score</th>\n",
       "    </tr>\n",
       "  </thead>\n",
       "  <tbody>\n",
       "    <tr>\n",
       "      <th>0</th>\n",
       "      <td>female</td>\n",
       "      <td>group D</td>\n",
       "      <td>some college</td>\n",
       "      <td>standard</td>\n",
       "      <td>completed</td>\n",
       "      <td>59</td>\n",
       "      <td>70</td>\n",
       "      <td>78</td>\n",
       "    </tr>\n",
       "    <tr>\n",
       "      <th>1</th>\n",
       "      <td>male</td>\n",
       "      <td>group D</td>\n",
       "      <td>associate's degree</td>\n",
       "      <td>standard</td>\n",
       "      <td>none</td>\n",
       "      <td>96</td>\n",
       "      <td>93</td>\n",
       "      <td>87</td>\n",
       "    </tr>\n",
       "    <tr>\n",
       "      <th>2</th>\n",
       "      <td>female</td>\n",
       "      <td>group D</td>\n",
       "      <td>some college</td>\n",
       "      <td>free/reduced</td>\n",
       "      <td>none</td>\n",
       "      <td>57</td>\n",
       "      <td>76</td>\n",
       "      <td>77</td>\n",
       "    </tr>\n",
       "    <tr>\n",
       "      <th>3</th>\n",
       "      <td>male</td>\n",
       "      <td>group B</td>\n",
       "      <td>some college</td>\n",
       "      <td>free/reduced</td>\n",
       "      <td>none</td>\n",
       "      <td>70</td>\n",
       "      <td>70</td>\n",
       "      <td>63</td>\n",
       "    </tr>\n",
       "    <tr>\n",
       "      <th>4</th>\n",
       "      <td>female</td>\n",
       "      <td>group D</td>\n",
       "      <td>associate's degree</td>\n",
       "      <td>standard</td>\n",
       "      <td>none</td>\n",
       "      <td>83</td>\n",
       "      <td>85</td>\n",
       "      <td>86</td>\n",
       "    </tr>\n",
       "  </tbody>\n",
       "</table>\n",
       "</div>"
      ],
      "text/plain": [
       "   gender race/ethnicity parental level of education         lunch  \\\n",
       "0  female        group D                some college      standard   \n",
       "1    male        group D          associate's degree      standard   \n",
       "2  female        group D                some college  free/reduced   \n",
       "3    male        group B                some college  free/reduced   \n",
       "4  female        group D          associate's degree      standard   \n",
       "\n",
       "  test preparation course  math score  reading score  writing score  \n",
       "0               completed          59             70             78  \n",
       "1                    none          96             93             87  \n",
       "2                    none          57             76             77  \n",
       "3                    none          70             70             63  \n",
       "4                    none          83             85             86  "
      ]
     },
     "execution_count": 36,
     "metadata": {},
     "output_type": "execute_result"
    }
   ],
   "source": [
    "# Read dataset\n",
    "data = pd.read_csv(\"./data/student_performance_prediction_dataset.csv\")\n",
    "data.head()"
   ]
  },
  {
   "cell_type": "markdown",
   "id": "13f70447-e8a5-4950-95f3-554a134f22d8",
   "metadata": {},
   "source": [
    "## 1. Identify the members associated with your protected class variables and group together into a subset of membership categories as appropriate"
   ]
  },
  {
   "cell_type": "code",
   "execution_count": 37,
   "id": "4851593f-25ae-47eb-bf82-c52595350ba1",
   "metadata": {},
   "outputs": [
    {
     "name": "stdout",
     "output_type": "stream",
     "text": [
      "Gender: ['female', 'male']\n",
      "Categories (2, object): ['female', 'male']\n",
      "Race/Ethnicity: ['group D', 'group B', 'group C', 'group E', 'group A']\n",
      "Categories (5, object): ['group A', 'group B', 'group C', 'group D', 'group E']\n"
     ]
    }
   ],
   "source": [
    "data[\"gender\"] = data[\"gender\"].astype('category')\n",
    "print(f'Gender: {data[\"gender\"].unique()}')\n",
    "data[\"race/ethnicity\"] = data[\"race/ethnicity\"].astype('category')\n",
    "print(f'Race/Ethnicity: {data[\"race/ethnicity\"].unique()}')"
   ]
  },
  {
   "cell_type": "markdown",
   "id": "a64b7e55-c474-4bfd-818e-97e57286404f",
   "metadata": {},
   "source": [
    "## 2. Discretize the values associated with your dependent variables into discrete categories/numerical values as appropriate"
   ]
  },
  {
   "cell_type": "code",
   "execution_count": 38,
   "id": "a076ea31-2942-473e-8ee0-8f04bfa22608",
   "metadata": {},
   "outputs": [],
   "source": [
    "# # Math\n",
    "# data[\"math score discrete\"] = pd.cut(\n",
    "#     x = data[\"math score\"],\n",
    "#     bins = [0, 59, 69, 79, 89, 100],\n",
    "#     right = True,\n",
    "#     labels = [\"F\", \"D\", \"C\", \"B\", \"A\"]\n",
    "# ).astype(\"category\")\n",
    "# print(data[\"math score discrete\"].unique())\n",
    "\n",
    "# # Reading\n",
    "# data[\"reading score discrete\"] = pd.cut(\n",
    "#     x = data[\"reading score\"],\n",
    "#     bins = [0, 59, 69, 79, 89, 100],\n",
    "#     right = True,\n",
    "#     labels = [\"F\", \"D\", \"C\", \"B\", \"A\"]\n",
    "# ).astype(\"category\")\n",
    "# print(data[\"reading score discrete\"].unique())\n",
    "\n",
    "# # Writing\n",
    "# data[\"writing score discrete\"] = pd.cut(\n",
    "#     x = data[\"writing score\"],\n",
    "#     bins = [0, 59, 69, 79, 89, 100],\n",
    "#     right = True,\n",
    "#     labels = [\"F\", \"D\", \"C\", \"B\", \"A\"]\n",
    "# ).astype(\"category\")\n",
    "# print(data[\"writing score discrete\"].unique())"
   ]
  },
  {
   "cell_type": "code",
   "execution_count": 39,
   "id": "ac7ba206",
   "metadata": {},
   "outputs": [
    {
     "name": "stdout",
     "output_type": "stream",
     "text": [
      "['F', 'P']\n",
      "Categories (2, object): ['F' < 'P']\n",
      "['P', 'F']\n",
      "Categories (2, object): ['F' < 'P']\n",
      "['P', 'F']\n",
      "Categories (2, object): ['F' < 'P']\n"
     ]
    }
   ],
   "source": [
    "# Math\n",
    "data[\"math score discrete\"] = pd.cut(\n",
    "    x = data[\"math score\"],\n",
    "    bins = [0, 60, 100],\n",
    "    right = True,\n",
    "    labels = [\"F\", \"P\"]\n",
    ").astype(\"category\")\n",
    "print(data[\"math score discrete\"].unique())\n",
    "\n",
    "# Reading\n",
    "data[\"reading score discrete\"] = pd.cut(\n",
    "    x = data[\"reading score\"],\n",
    "    bins = [0, 60, 100],\n",
    "    right = True,\n",
    "    labels = [\"F\", \"P\"]\n",
    ").astype(\"category\")\n",
    "print(data[\"reading score discrete\"].unique())\n",
    "\n",
    "# Writing\n",
    "data[\"writing score discrete\"] = pd.cut(\n",
    "    x = data[\"writing score\"],\n",
    "    bins = [0, 60, 100],\n",
    "    right = True,\n",
    "    labels = [\"F\", \"P\"]\n",
    ").astype(\"category\")\n",
    "print(data[\"writing score discrete\"].unique())"
   ]
  },
  {
   "cell_type": "code",
   "execution_count": 40,
   "id": "7f9bd670-cd49-4a28-bd28-ec346aab1b21",
   "metadata": {},
   "outputs": [],
   "source": [
    "# Export the discretized dataset for future analysis\n",
    "data.to_csv(\"./data/student_performance_prediction_dataset_discrete.csv\")"
   ]
  },
  {
   "cell_type": "markdown",
   "id": "c60e289a-a27b-431f-9edf-69482126ad67",
   "metadata": {},
   "source": [
    "## 3. Compute the frequency of each membership category associated with each of your protected class variables from Step 2.1"
   ]
  },
  {
   "cell_type": "code",
   "execution_count": 41,
   "id": "d86f243e-7607-4ac4-a8de-c8464fd78fae",
   "metadata": {},
   "outputs": [
    {
     "data": {
      "text/html": [
       "<div>\n",
       "<style scoped>\n",
       "    .dataframe tbody tr th:only-of-type {\n",
       "        vertical-align: middle;\n",
       "    }\n",
       "\n",
       "    .dataframe tbody tr th {\n",
       "        vertical-align: top;\n",
       "    }\n",
       "\n",
       "    .dataframe thead th {\n",
       "        text-align: right;\n",
       "    }\n",
       "</style>\n",
       "<table border=\"1\" class=\"dataframe\">\n",
       "  <thead>\n",
       "    <tr style=\"text-align: right;\">\n",
       "      <th></th>\n",
       "      <th>gender</th>\n",
       "      <th>race/ethnicity</th>\n",
       "      <th>parental level of education</th>\n",
       "      <th>lunch</th>\n",
       "      <th>test preparation course</th>\n",
       "      <th>math score</th>\n",
       "      <th>reading score</th>\n",
       "      <th>writing score</th>\n",
       "      <th>math score discrete</th>\n",
       "      <th>reading score discrete</th>\n",
       "      <th>writing score discrete</th>\n",
       "    </tr>\n",
       "  </thead>\n",
       "  <tbody>\n",
       "    <tr>\n",
       "      <th>0</th>\n",
       "      <td>female</td>\n",
       "      <td>group D</td>\n",
       "      <td>some college</td>\n",
       "      <td>standard</td>\n",
       "      <td>completed</td>\n",
       "      <td>59</td>\n",
       "      <td>70</td>\n",
       "      <td>78</td>\n",
       "      <td>F</td>\n",
       "      <td>P</td>\n",
       "      <td>P</td>\n",
       "    </tr>\n",
       "    <tr>\n",
       "      <th>1</th>\n",
       "      <td>male</td>\n",
       "      <td>group D</td>\n",
       "      <td>associate's degree</td>\n",
       "      <td>standard</td>\n",
       "      <td>none</td>\n",
       "      <td>96</td>\n",
       "      <td>93</td>\n",
       "      <td>87</td>\n",
       "      <td>P</td>\n",
       "      <td>P</td>\n",
       "      <td>P</td>\n",
       "    </tr>\n",
       "    <tr>\n",
       "      <th>2</th>\n",
       "      <td>female</td>\n",
       "      <td>group D</td>\n",
       "      <td>some college</td>\n",
       "      <td>free/reduced</td>\n",
       "      <td>none</td>\n",
       "      <td>57</td>\n",
       "      <td>76</td>\n",
       "      <td>77</td>\n",
       "      <td>F</td>\n",
       "      <td>P</td>\n",
       "      <td>P</td>\n",
       "    </tr>\n",
       "    <tr>\n",
       "      <th>3</th>\n",
       "      <td>male</td>\n",
       "      <td>group B</td>\n",
       "      <td>some college</td>\n",
       "      <td>free/reduced</td>\n",
       "      <td>none</td>\n",
       "      <td>70</td>\n",
       "      <td>70</td>\n",
       "      <td>63</td>\n",
       "      <td>P</td>\n",
       "      <td>P</td>\n",
       "      <td>P</td>\n",
       "    </tr>\n",
       "    <tr>\n",
       "      <th>4</th>\n",
       "      <td>female</td>\n",
       "      <td>group D</td>\n",
       "      <td>associate's degree</td>\n",
       "      <td>standard</td>\n",
       "      <td>none</td>\n",
       "      <td>83</td>\n",
       "      <td>85</td>\n",
       "      <td>86</td>\n",
       "      <td>P</td>\n",
       "      <td>P</td>\n",
       "      <td>P</td>\n",
       "    </tr>\n",
       "  </tbody>\n",
       "</table>\n",
       "</div>"
      ],
      "text/plain": [
       "   gender race/ethnicity parental level of education         lunch  \\\n",
       "0  female        group D                some college      standard   \n",
       "1    male        group D          associate's degree      standard   \n",
       "2  female        group D                some college  free/reduced   \n",
       "3    male        group B                some college  free/reduced   \n",
       "4  female        group D          associate's degree      standard   \n",
       "\n",
       "  test preparation course  math score  reading score  writing score  \\\n",
       "0               completed          59             70             78   \n",
       "1                    none          96             93             87   \n",
       "2                    none          57             76             77   \n",
       "3                    none          70             70             63   \n",
       "4                    none          83             85             86   \n",
       "\n",
       "  math score discrete reading score discrete writing score discrete  \n",
       "0                   F                      P                      P  \n",
       "1                   P                      P                      P  \n",
       "2                   F                      P                      P  \n",
       "3                   P                      P                      P  \n",
       "4                   P                      P                      P  "
      ]
     },
     "execution_count": 41,
     "metadata": {},
     "output_type": "execute_result"
    }
   ],
   "source": [
    "data.head()"
   ]
  },
  {
   "cell_type": "code",
   "execution_count": 42,
   "id": "237dd116-58e8-429f-807b-7622f7191123",
   "metadata": {},
   "outputs": [
    {
     "data": {
      "text/plain": [
       "gender\n",
       "female    492\n",
       "male      508\n",
       "dtype: int64"
      ]
     },
     "execution_count": 42,
     "metadata": {},
     "output_type": "execute_result"
    }
   ],
   "source": [
    "data.groupby([\"gender\"], observed=True).size()"
   ]
  },
  {
   "cell_type": "code",
   "execution_count": 43,
   "id": "9692510e-24d7-458d-a3fd-4a9a9b73b4e8",
   "metadata": {},
   "outputs": [
    {
     "data": {
      "text/plain": [
       "race/ethnicity\n",
       "group A     79\n",
       "group B    198\n",
       "group C    323\n",
       "group D    257\n",
       "group E    143\n",
       "dtype: int64"
      ]
     },
     "execution_count": 43,
     "metadata": {},
     "output_type": "execute_result"
    }
   ],
   "source": [
    "data.groupby([\"race/ethnicity\"], observed=True).size()"
   ]
  },
  {
   "cell_type": "markdown",
   "id": "1a533a0c-f020-45f3-94f9-61bb87806180",
   "metadata": {},
   "source": [
    "## 4. Create a histogram for each protected class variable that graphs the frequency values of its membership categories as a function of the dependent variables"
   ]
  },
  {
   "cell_type": "markdown",
   "id": "65796057-4402-4643-b708-e74eb6ef7909",
   "metadata": {},
   "source": [
    "#### Gender"
   ]
  },
  {
   "cell_type": "code",
   "execution_count": 44,
   "id": "446a8c68-a9ea-48ed-b9ee-ab5ce0a4537c",
   "metadata": {},
   "outputs": [
    {
     "data": {
      "text/plain": [
       "<Axes: xlabel='gender'>"
      ]
     },
     "execution_count": 44,
     "metadata": {},
     "output_type": "execute_result"
    },
    {
     "data": {
      "image/png": "[encoded data removed]",
      "text/plain": [
       "<Figure size 640x480 with 1 Axes>"
      ]
     },
     "metadata": {},
     "output_type": "display_data"
    }
   ],
   "source": [
    "df_grouped = data.groupby([\"gender\", \"math score discrete\"], observed=True).size()\n",
    "df_grouped.unstack().plot.bar()"
   ]
  },
  {
   "cell_type": "code",
   "execution_count": 45,
   "id": "ac457286-ccbf-41f2-8604-dcaf82221d08",
   "metadata": {},
   "outputs": [
    {
     "data": {
      "text/plain": [
       "<Axes: xlabel='gender'>"
      ]
     },
     "execution_count": 45,
     "metadata": {},
     "output_type": "execute_result"
    },
    {
     "data": {
      "image/png": "[encoded data removed]",
      "text/plain": [
       "<Figure size 640x480 with 1 Axes>"
      ]
     },
     "metadata": {},
     "output_type": "display_data"
    }
   ],
   "source": [
    "df_grouped = data.groupby([\"gender\", \"reading score discrete\"], observed=True).size()\n",
    "df_grouped.unstack().plot.bar()"
   ]
  },
  {
   "cell_type": "code",
   "execution_count": 46,
   "id": "b821844f-70d7-48bf-ab2f-e181782989c8",
   "metadata": {},
   "outputs": [
    {
     "data": {
      "text/plain": [
       "<Axes: xlabel='gender'>"
      ]
     },
     "execution_count": 46,
     "metadata": {},
     "output_type": "execute_result"
    },
    {
     "data": {
      "image/png": "[encoded data removed]",
      "text/plain": [
       "<Figure size 640x480 with 1 Axes>"
      ]
     },
     "metadata": {},
     "output_type": "display_data"
    }
   ],
   "source": [
    "df_grouped = data.groupby([\"gender\", \"writing score discrete\"], observed=True).size()\n",
    "df_grouped.unstack().plot.bar()"
   ]
  },
  {
   "cell_type": "markdown",
   "id": "32d35335-e0f0-4188-8a21-84daa87e366b",
   "metadata": {},
   "source": [
    "#### Race/Ethnicity"
   ]
  },
  {
   "cell_type": "code",
   "execution_count": 47,
   "id": "f42c96dc-78a3-4642-9020-5ce4a7e750bb",
   "metadata": {},
   "outputs": [
    {
     "data": {
      "text/plain": [
       "<Axes: xlabel='race/ethnicity'>"
      ]
     },
     "execution_count": 47,
     "metadata": {},
     "output_type": "execute_result"
    },
    {
     "data": {
      "image/png": "[encoded data removed]",
      "text/plain": [
       "<Figure size 640x480 with 1 Axes>"
      ]
     },
     "metadata": {},
     "output_type": "display_data"
    }
   ],
   "source": [
    "df_grouped = data.groupby([\"race/ethnicity\", \"math score discrete\"], observed=True).size()\n",
    "df_grouped.unstack().plot.bar()"
   ]
  },
  {
   "cell_type": "code",
   "execution_count": 48,
   "id": "63da3cd0-6df0-4598-8509-2ce508767d30",
   "metadata": {
    "scrolled": true
   },
   "outputs": [
    {
     "data": {
      "text/plain": [
       "<Axes: xlabel='race/ethnicity'>"
      ]
     },
     "execution_count": 48,
     "metadata": {},
     "output_type": "execute_result"
    },
    {
     "data": {
      "image/png": "[encoded data removed]",
      "text/plain": [
       "<Figure size 640x480 with 1 Axes>"
      ]
     },
     "metadata": {},
     "output_type": "display_data"
    }
   ],
   "source": [
    "df_grouped = data.groupby([\"race/ethnicity\", \"reading score discrete\"], observed=True).size()\n",
    "df_grouped.unstack().plot.bar()"
   ]
  },
  {
   "cell_type": "markdown",
   "id": "97b7733a",
   "metadata": {},
   "source": [
    "# Step 3"
   ]
  },
  {
   "cell_type": "code",
   "execution_count": 49,
   "id": "0d43f797",
   "metadata": {},
   "outputs": [
    {
     "data": {
      "text/html": [
       "<div>\n",
       "<style scoped>\n",
       "    .dataframe tbody tr th:only-of-type {\n",
       "        vertical-align: middle;\n",
       "    }\n",
       "\n",
       "    .dataframe tbody tr th {\n",
       "        vertical-align: top;\n",
       "    }\n",
       "\n",
       "    .dataframe thead th {\n",
       "        text-align: right;\n",
       "    }\n",
       "</style>\n",
       "<table border=\"1\" class=\"dataframe\">\n",
       "  <thead>\n",
       "    <tr style=\"text-align: right;\">\n",
       "      <th></th>\n",
       "      <th>gender</th>\n",
       "      <th>race/ethnicity</th>\n",
       "      <th>parental level of education</th>\n",
       "      <th>lunch</th>\n",
       "      <th>test preparation course</th>\n",
       "      <th>math score</th>\n",
       "      <th>reading score</th>\n",
       "      <th>writing score</th>\n",
       "    </tr>\n",
       "  </thead>\n",
       "  <tbody>\n",
       "    <tr>\n",
       "      <th>0</th>\n",
       "      <td>female</td>\n",
       "      <td>group D</td>\n",
       "      <td>some college</td>\n",
       "      <td>standard</td>\n",
       "      <td>completed</td>\n",
       "      <td>59</td>\n",
       "      <td>70</td>\n",
       "      <td>78</td>\n",
       "    </tr>\n",
       "    <tr>\n",
       "      <th>1</th>\n",
       "      <td>male</td>\n",
       "      <td>group D</td>\n",
       "      <td>associate's degree</td>\n",
       "      <td>standard</td>\n",
       "      <td>none</td>\n",
       "      <td>96</td>\n",
       "      <td>93</td>\n",
       "      <td>87</td>\n",
       "    </tr>\n",
       "    <tr>\n",
       "      <th>2</th>\n",
       "      <td>female</td>\n",
       "      <td>group D</td>\n",
       "      <td>some college</td>\n",
       "      <td>free/reduced</td>\n",
       "      <td>none</td>\n",
       "      <td>57</td>\n",
       "      <td>76</td>\n",
       "      <td>77</td>\n",
       "    </tr>\n",
       "    <tr>\n",
       "      <th>3</th>\n",
       "      <td>male</td>\n",
       "      <td>group B</td>\n",
       "      <td>some college</td>\n",
       "      <td>free/reduced</td>\n",
       "      <td>none</td>\n",
       "      <td>70</td>\n",
       "      <td>70</td>\n",
       "      <td>63</td>\n",
       "    </tr>\n",
       "    <tr>\n",
       "      <th>4</th>\n",
       "      <td>female</td>\n",
       "      <td>group D</td>\n",
       "      <td>associate's degree</td>\n",
       "      <td>standard</td>\n",
       "      <td>none</td>\n",
       "      <td>83</td>\n",
       "      <td>85</td>\n",
       "      <td>86</td>\n",
       "    </tr>\n",
       "  </tbody>\n",
       "</table>\n",
       "</div>"
      ],
      "text/plain": [
       "   gender race/ethnicity parental level of education         lunch  \\\n",
       "0  female        group D                some college      standard   \n",
       "1    male        group D          associate's degree      standard   \n",
       "2  female        group D                some college  free/reduced   \n",
       "3    male        group B                some college  free/reduced   \n",
       "4  female        group D          associate's degree      standard   \n",
       "\n",
       "  test preparation course  math score  reading score  writing score  \n",
       "0               completed          59             70             78  \n",
       "1                    none          96             93             87  \n",
       "2                    none          57             76             77  \n",
       "3                    none          70             70             63  \n",
       "4                    none          83             85             86  "
      ]
     },
     "execution_count": 49,
     "metadata": {},
     "output_type": "execute_result"
    }
   ],
   "source": [
    "# Read dataset\n",
    "df = pd.read_csv(\"./data/student_performance_prediction_dataset.csv\")\n",
    "df.head()"
   ]
  },
  {
   "cell_type": "code",
   "execution_count": 50,
   "id": "02f988d6",
   "metadata": {
    "id": "6TgXm3PqQjDU"
   },
   "outputs": [],
   "source": [
    "# For Gender: unprivileged group: female; priviliged group: male;\n",
    "# For Race: unprivileged group: Non-Group E; priviliged group: Group E;\n",
    "# Fairness metrics:\n",
    "# Statistical Parity Difference\n",
    "# Disparate Impact\n",
    "# If math score >= 60 and writing score >= 60, this will be the favorable outcome; if math score < 60 and writing score < 60, this will be the unfavorable outcome.\n",
    "\n",
    "male_math_favorable, female_math_favorable, male_writing_favorable, female_writing_favorable, male_math_unfavorable, female_math_unfavorable, male_writing_unfavorable, female_writing_unfavorable = 0, 0, 0, 0, 0, 0, 0, 0\n",
    "groupE_math_favorable, nongroupE_math_favorable, groupE_writing_favorable, nongroupE_writing_favorable, groupE_math_unfavorable, nongroupE_math_unfavorable, groupE_writing_unfavorable, nongroupE_writing_unfavorable = 0, 0, 0, 0, 0, 0, 0, 0"
   ]
  },
  {
   "cell_type": "code",
   "execution_count": 51,
   "id": "42ce2e21",
   "metadata": {
    "id": "Xb5tQS6GTPAL"
   },
   "outputs": [],
   "source": [
    "for index, row in df.iterrows():\n",
    "  if row['gender'] == 'male':\n",
    "    if row['math score'] >= 60:\n",
    "      male_math_favorable += 1\n",
    "    else:\n",
    "      male_math_unfavorable += 1\n",
    "    if row['writing score'] >= 60:\n",
    "      male_writing_favorable += 1\n",
    "    else:\n",
    "      male_writing_unfavorable += 1\n",
    "  else:\n",
    "    if row['math score'] >= 60:\n",
    "      female_math_favorable += 1\n",
    "    else:\n",
    "      female_math_unfavorable += 1\n",
    "    if row['writing score'] >= 60:\n",
    "      female_writing_favorable += 1\n",
    "    else:\n",
    "      female_writing_unfavorable += 1\n",
    "  if row['race/ethnicity'] == 'group C' or row['race/ethnicity'] == 'group D':\n",
    "    if row['math score'] >= 60:\n",
    "      groupE_math_favorable += 1\n",
    "    else:\n",
    "      groupE_math_unfavorable +=1\n",
    "    if row['writing score'] >= 60:\n",
    "      groupE_writing_favorable += 1\n",
    "    else:\n",
    "      groupE_writing_unfavorable +=1\n",
    "  else:\n",
    "    if row['math score'] >= 60:\n",
    "      nongroupE_math_favorable += 1\n",
    "    else:\n",
    "      nongroupE_math_unfavorable +=1\n",
    "    if row['writing score'] >= 60:\n",
    "      nongroupE_writing_favorable += 1\n",
    "    else:\n",
    "      nongroupE_writing_unfavorable +=1"
   ]
  },
  {
   "cell_type": "code",
   "execution_count": 52,
   "id": "42436a3c",
   "metadata": {
    "colab": {
     "base_uri": "https://localhost:8080/",
     "height": 300
    },
    "id": "vHJLrP9nVJ72",
    "outputId": "a2ccdba2-0678-4759-90de-656343ddd47e"
   },
   "outputs": [
    {
     "data": {
      "text/html": [
       "<div>\n",
       "<style scoped>\n",
       "    .dataframe tbody tr th:only-of-type {\n",
       "        vertical-align: middle;\n",
       "    }\n",
       "\n",
       "    .dataframe tbody tr th {\n",
       "        vertical-align: top;\n",
       "    }\n",
       "\n",
       "    .dataframe thead th {\n",
       "        text-align: right;\n",
       "    }\n",
       "</style>\n",
       "<table border=\"1\" class=\"dataframe\">\n",
       "  <thead>\n",
       "    <tr style=\"text-align: right;\">\n",
       "      <th></th>\n",
       "      <th>Indepedent Variable</th>\n",
       "      <th>Dependent Variable</th>\n",
       "      <th>Fairness Metric</th>\n",
       "      <th>Original Metric Value</th>\n",
       "    </tr>\n",
       "  </thead>\n",
       "  <tbody>\n",
       "    <tr>\n",
       "      <th>0</th>\n",
       "      <td>gender</td>\n",
       "      <td>math score</td>\n",
       "      <td>disparate impact</td>\n",
       "      <td>0.875108</td>\n",
       "    </tr>\n",
       "    <tr>\n",
       "      <th>1</th>\n",
       "      <td>race</td>\n",
       "      <td>math score</td>\n",
       "      <td>disparate impact</td>\n",
       "      <td>1.009801</td>\n",
       "    </tr>\n",
       "    <tr>\n",
       "      <th>2</th>\n",
       "      <td>gender</td>\n",
       "      <td>writing score</td>\n",
       "      <td>disparate impact</td>\n",
       "      <td>1.269594</td>\n",
       "    </tr>\n",
       "    <tr>\n",
       "      <th>3</th>\n",
       "      <td>race</td>\n",
       "      <td>writing score</td>\n",
       "      <td>disparate impact</td>\n",
       "      <td>0.994672</td>\n",
       "    </tr>\n",
       "    <tr>\n",
       "      <th>4</th>\n",
       "      <td>gender</td>\n",
       "      <td>math score</td>\n",
       "      <td>statistical parity</td>\n",
       "      <td>-0.095144</td>\n",
       "    </tr>\n",
       "    <tr>\n",
       "      <th>5</th>\n",
       "      <td>race</td>\n",
       "      <td>math score</td>\n",
       "      <td>statistical parity</td>\n",
       "      <td>0.006979</td>\n",
       "    </tr>\n",
       "    <tr>\n",
       "      <th>6</th>\n",
       "      <td>gender</td>\n",
       "      <td>writing score</td>\n",
       "      <td>statistical parity</td>\n",
       "      <td>0.175661</td>\n",
       "    </tr>\n",
       "    <tr>\n",
       "      <th>7</th>\n",
       "      <td>race</td>\n",
       "      <td>writing score</td>\n",
       "      <td>statistical parity</td>\n",
       "      <td>-0.003941</td>\n",
       "    </tr>\n",
       "  </tbody>\n",
       "</table>\n",
       "</div>"
      ],
      "text/plain": [
       "  Indepedent Variable Dependent Variable     Fairness Metric  \\\n",
       "0              gender         math score    disparate impact   \n",
       "1                race         math score    disparate impact   \n",
       "2              gender      writing score    disparate impact   \n",
       "3                race      writing score    disparate impact   \n",
       "4              gender         math score  statistical parity   \n",
       "5                race         math score  statistical parity   \n",
       "6              gender      writing score  statistical parity   \n",
       "7                race      writing score  statistical parity   \n",
       "\n",
       "   Original Metric Value  \n",
       "0               0.875108  \n",
       "1               1.009801  \n",
       "2               1.269594  \n",
       "3               0.994672  \n",
       "4              -0.095144  \n",
       "5               0.006979  \n",
       "6               0.175661  \n",
       "7              -0.003941  "
      ]
     },
     "execution_count": 52,
     "metadata": {},
     "output_type": "execute_result"
    }
   ],
   "source": [
    "og_gender_math_disparate_impact = (female_math_favorable / (female_math_favorable + female_math_unfavorable)) / (male_math_favorable / (male_math_favorable + male_math_unfavorable))\n",
    "og_gender_writing_disparate_impact = (female_writing_favorable / (female_writing_favorable + female_writing_unfavorable)) / (male_writing_favorable / (male_writing_favorable + male_writing_unfavorable))\n",
    "og_race_math_disparate_impact = (nongroupE_math_favorable / (nongroupE_math_favorable + nongroupE_math_unfavorable)) / (groupE_math_favorable / (groupE_math_favorable + groupE_math_unfavorable))\n",
    "og_race_writing_disparate_impact = (nongroupE_writing_favorable / (nongroupE_writing_favorable + nongroupE_writing_unfavorable)) / (groupE_writing_favorable / (groupE_writing_favorable + groupE_writing_unfavorable))\n",
    "\n",
    "og_gender_math_statistical_parity = (female_math_favorable / (female_math_favorable + female_math_unfavorable)) - (male_math_favorable / (male_math_favorable + male_math_unfavorable))\n",
    "og_gender_writing_statistical_parity = (female_writing_favorable / (female_writing_favorable + female_writing_unfavorable)) - (male_writing_favorable / (male_writing_favorable + male_writing_unfavorable))\n",
    "og_race_math_statistical_parity = (nongroupE_math_favorable / (nongroupE_math_favorable + nongroupE_math_unfavorable)) - (groupE_math_favorable / (groupE_math_favorable + groupE_math_unfavorable))\n",
    "og_race_writing_statistical_parity = (nongroupE_writing_favorable / (nongroupE_writing_favorable + nongroupE_writing_unfavorable)) - (groupE_writing_favorable / (groupE_writing_favorable + groupE_writing_unfavorable))\n",
    "\n",
    "original_metrics = [og_gender_math_disparate_impact,\n",
    "                   og_race_math_disparate_impact,\n",
    "                   og_gender_writing_disparate_impact,\n",
    "                   og_race_writing_disparate_impact,\n",
    "                   og_gender_math_statistical_parity,\n",
    "                   og_race_math_statistical_parity,\n",
    "                   og_gender_writing_statistical_parity,\n",
    "                   og_race_writing_statistical_parity]\n",
    "independent_lables = ['gender', 'race', 'gender', 'race', 'gender', 'race', 'gender',  'race']\n",
    "dependent_lables = ['math score', 'math score', 'writing score', 'writing score', 'math score',  'math score', 'writing score', 'writing score']\n",
    "metric_names = ['disparate impact', 'disparate impact', 'disparate impact', 'disparate impact', 'statistical parity', 'statistical parity', 'statistical parity', 'statistical parity']\n",
    "\n",
    "og_summary_table = list(zip(independent_lables, dependent_lables, metric_names, original_metrics))\n",
    "og_summary_df = pd.DataFrame(og_summary_table, columns = ['Indepedent Variable', 'Dependent Variable', 'Fairness Metric', 'Original Metric Value'])\n",
    "og_summary_df.head(10)"
   ]
  },
  {
   "cell_type": "code",
   "execution_count": 53,
   "id": "cfc9c236",
   "metadata": {
    "id": "FYDLjIU3IdOi"
   },
   "outputs": [],
   "source": [
    "protected_gender = 'gender'\n",
    "protected_race = 'race/ethnicity'\n",
    "privileged_gender = 'male'\n",
    "privileged_race = 'group C' or 'group D'\n",
    "\n",
    "# Define the threshold for a favorable outcome\n",
    "threshold = 60\n",
    "\n",
    "# Calculate group statistics\n",
    "privileged_group_stats = df[(df[protected_gender] == privileged_gender) & (df[protected_race] == privileged_race)]\n",
    "unprivileged_group_stats = df[~((df[protected_gender] == privileged_gender) & (df[protected_race] == privileged_race))]\n",
    "\n",
    "num_privileged = privileged_group_stats.shape[0]\n",
    "num_unprivileged = unprivileged_group_stats.shape[0]\n",
    "\n",
    "num_favorable_privileged = (privileged_group_stats['math score'] >= threshold).sum()\n",
    "num_favorable_unprivileged = (unprivileged_group_stats['math score'] >= threshold).sum()\n",
    "\n",
    "# Calculate reweighing weights\n",
    "weight_multiplier = num_unprivileged / num_favorable_unprivileged\n",
    "\n",
    "df['weights'] = df.apply(\n",
    "    lambda row: weight_multiplier if (\n",
    "        (row[protected_gender] == privileged_gender) and (row[protected_race] == privileged_race)\n",
    "    ) else 1.0,\n",
    "    axis=1\n",
    ")\n",
    "# print(\"Weight Multiplier:\", weight_multiplier)\n",
    "# print(\"Sample Weights for Privileged Group:\", df[df[protected_gender] == privileged_gender]['weights'])\n",
    "# print(\"Sample Weights for Unprivileged Group:\", df[df[protected_gender] != privileged_gender]['weights'])\n",
    "# Save the reweighed dataset as reweighed_df\n",
    "reweighted_data = df.copy()\n",
    "\n",
    "# Reweight \"math_score\" and \"writing_score\" using the \"weights\" column\n",
    "reweighted_data['reweighted_math_score'] = reweighted_data['math score'] / reweighted_data['weights']\n",
    "reweighted_data['reweighted_writing_score'] = reweighted_data['writing score'] / reweighted_data['weights']\n",
    "\n",
    "\n",
    "# Save the new reweighted dataset to a CSV file\n",
    "# reweighted_data.to_csv(\"/content/drive/MyDrive/Colab Notebooks/reweighted_dataset.csv\", index=False)\n"
   ]
  },
  {
   "cell_type": "code",
   "execution_count": 54,
   "id": "6650c62e",
   "metadata": {
    "colab": {
     "base_uri": "https://localhost:8080/",
     "height": 300
    },
    "id": "0fdwFOHS5EUr",
    "outputId": "991d0c82-9d0b-447c-e4ff-ae82fb9ee6b9"
   },
   "outputs": [
    {
     "data": {
      "text/html": [
       "<div>\n",
       "<style scoped>\n",
       "    .dataframe tbody tr th:only-of-type {\n",
       "        vertical-align: middle;\n",
       "    }\n",
       "\n",
       "    .dataframe tbody tr th {\n",
       "        vertical-align: top;\n",
       "    }\n",
       "\n",
       "    .dataframe thead th {\n",
       "        text-align: right;\n",
       "    }\n",
       "</style>\n",
       "<table border=\"1\" class=\"dataframe\">\n",
       "  <thead>\n",
       "    <tr style=\"text-align: right;\">\n",
       "      <th></th>\n",
       "      <th>Indepedent Variable</th>\n",
       "      <th>Dependent Variable</th>\n",
       "      <th>Fairness Metric</th>\n",
       "      <th>Original Metric Value</th>\n",
       "      <th>New Metric Value</th>\n",
       "    </tr>\n",
       "  </thead>\n",
       "  <tbody>\n",
       "    <tr>\n",
       "      <th>0</th>\n",
       "      <td>gender</td>\n",
       "      <td>math score</td>\n",
       "      <td>disparate impact</td>\n",
       "      <td>0.875108</td>\n",
       "      <td>1.391586</td>\n",
       "    </tr>\n",
       "    <tr>\n",
       "      <th>1</th>\n",
       "      <td>race</td>\n",
       "      <td>math score</td>\n",
       "      <td>disparate impact</td>\n",
       "      <td>1.009801</td>\n",
       "      <td>1.542996</td>\n",
       "    </tr>\n",
       "    <tr>\n",
       "      <th>2</th>\n",
       "      <td>gender</td>\n",
       "      <td>writing score</td>\n",
       "      <td>disparate impact</td>\n",
       "      <td>1.269594</td>\n",
       "      <td>2.144893</td>\n",
       "    </tr>\n",
       "    <tr>\n",
       "      <th>3</th>\n",
       "      <td>race</td>\n",
       "      <td>writing score</td>\n",
       "      <td>disparate impact</td>\n",
       "      <td>0.994672</td>\n",
       "      <td>1.490232</td>\n",
       "    </tr>\n",
       "    <tr>\n",
       "      <th>4</th>\n",
       "      <td>gender</td>\n",
       "      <td>math score</td>\n",
       "      <td>statistical parity</td>\n",
       "      <td>-0.095144</td>\n",
       "      <td>0.187597</td>\n",
       "    </tr>\n",
       "    <tr>\n",
       "      <th>5</th>\n",
       "      <td>race</td>\n",
       "      <td>math score</td>\n",
       "      <td>statistical parity</td>\n",
       "      <td>0.006979</td>\n",
       "      <td>0.253040</td>\n",
       "    </tr>\n",
       "    <tr>\n",
       "      <th>6</th>\n",
       "      <td>gender</td>\n",
       "      <td>writing score</td>\n",
       "      <td>statistical parity</td>\n",
       "      <td>0.175661</td>\n",
       "      <td>0.441559</td>\n",
       "    </tr>\n",
       "    <tr>\n",
       "      <th>7</th>\n",
       "      <td>race</td>\n",
       "      <td>writing score</td>\n",
       "      <td>statistical parity</td>\n",
       "      <td>-0.003941</td>\n",
       "      <td>0.242023</td>\n",
       "    </tr>\n",
       "  </tbody>\n",
       "</table>\n",
       "</div>"
      ],
      "text/plain": [
       "  Indepedent Variable Dependent Variable     Fairness Metric  \\\n",
       "0              gender         math score    disparate impact   \n",
       "1                race         math score    disparate impact   \n",
       "2              gender      writing score    disparate impact   \n",
       "3                race      writing score    disparate impact   \n",
       "4              gender         math score  statistical parity   \n",
       "5                race         math score  statistical parity   \n",
       "6              gender      writing score  statistical parity   \n",
       "7                race      writing score  statistical parity   \n",
       "\n",
       "   Original Metric Value  New Metric Value  \n",
       "0               0.875108          1.391586  \n",
       "1               1.009801          1.542996  \n",
       "2               1.269594          2.144893  \n",
       "3               0.994672          1.490232  \n",
       "4              -0.095144          0.187597  \n",
       "5               0.006979          0.253040  \n",
       "6               0.175661          0.441559  \n",
       "7              -0.003941          0.242023  "
      ]
     },
     "execution_count": 54,
     "metadata": {},
     "output_type": "execute_result"
    }
   ],
   "source": [
    "\n",
    "# Define the protected attributes and the binary outcome variable\n",
    "protected_attributes = ['gender', 'race/ethnicity']\n",
    "binary_outcome_variables = ['reweighted_math_score', 'reweighted_writing_score']\n",
    "threshold_for_favorable_outcome = 60  # Set the threshold to 60 for a favorable outcome\n",
    "\n",
    "disparate_impacts = {}\n",
    "statistical_parity_differences = {}\n",
    "\n",
    "for binary_outcome_variable in binary_outcome_variables:\n",
    "    disparate_impacts[binary_outcome_variable] = {}\n",
    "    statistical_parity_differences[binary_outcome_variable] = {}\n",
    "\n",
    "    for protected_attribute in protected_attributes:\n",
    "        # Calculate the acceptance rates for privileged and unprivileged groups\n",
    "        if protected_attribute == 'gender':\n",
    "            privileged_group = reweighted_data[reweighted_data[protected_attribute] == 'male']\n",
    "            unprivileged_group = reweighted_data[reweighted_data[protected_attribute] == 'female']\n",
    "        elif protected_attribute == 'race/ethnicity':\n",
    "            privileged_group = reweighted_data[reweighted_data[protected_attribute].isin(['group C', 'group D'])]\n",
    "            unprivileged_group = reweighted_data[~reweighted_data[protected_attribute].isin(['group C', 'group D'])]\n",
    "\n",
    "        # Weighted acceptance rates\n",
    "        weighted_acceptance_rate_privileged = ((privileged_group[binary_outcome_variable] >= threshold_for_favorable_outcome)).sum() / privileged_group['weights'].sum()\n",
    "        weighted_acceptance_rate_unprivileged = ((unprivileged_group[binary_outcome_variable] >= threshold_for_favorable_outcome)).sum() / unprivileged_group['weights'].sum()\n",
    "\n",
    "        # Calculate disparate impact\n",
    "        disparate_impact = weighted_acceptance_rate_unprivileged / weighted_acceptance_rate_privileged\n",
    "        disparate_impacts[binary_outcome_variable][protected_attribute] = disparate_impact\n",
    "        statistical_parity_difference = weighted_acceptance_rate_unprivileged - weighted_acceptance_rate_privileged\n",
    "        statistical_parity_differences[binary_outcome_variable][protected_attribute] = statistical_parity_difference\n",
    "\n",
    "# Display results\n",
    "# for binary_outcome_variable, values in statistical_parity_differences.items():\n",
    "#    for protected_attribute, spd_value in values.items():\n",
    "#        print(f\"Statistical Parity Difference for {protected_attribute} in {binary_outcome_variable}: {spd_value}\")\n",
    "\n",
    "# Display results\n",
    "# for binary_outcome_variable, values in disparate_impacts.items():\n",
    "#    for protected_attribute, di_value in values.items():\n",
    "#        print(f\"Disparate Impact for {protected_attribute} in {binary_outcome_variable}: {di_value}\")\n",
    "\n",
    "new_metrics = [value for outer_dict in disparate_impacts.values() for value in outer_dict.values()] + [value for outer_dict in statistical_parity_differences.values() for value in outer_dict.values()]\n",
    "og_summary_df['New Metric Value'] = new_metrics\n",
    "og_summary_df.head(10)"
   ]
  },
  {
   "cell_type": "code",
   "execution_count": 55,
   "id": "a44e76b3-cc65-4240-9d0b-a0745bb8fc47",
   "metadata": {},
   "outputs": [
    {
     "data": {
      "text/plain": [
       "<Axes: xlabel='race/ethnicity'>"
      ]
     },
     "execution_count": 55,
     "metadata": {},
     "output_type": "execute_result"
    },
    {
     "data": {
      "image/png": "[encoded data removed]",
      "text/plain": [
       "<Figure size 640x480 with 1 Axes>"
      ]
     },
     "metadata": {},
     "output_type": "display_data"
    }
   ],
   "source": [
    "df_grouped = data.groupby([\"race/ethnicity\", \"writing score discrete\"], observed=True).size()\n",
    "df_grouped.unstack().plot.bar()"
   ]
  },
  {
   "cell_type": "markdown",
   "id": "5cd5ae34",
   "metadata": {},
   "source": [
    "# Step 4"
   ]
  },
  {
   "cell_type": "code",
   "execution_count": 56,
   "id": "7b7c90ae",
   "metadata": {},
   "outputs": [],
   "source": [
    "def evaluate_model(data, cutoff_score=60, dependent_variable='math score'):\n",
    "    \"\"\"\n",
    "    Step 4 - training classifier and get fairness metrics.\n",
    "                # dependent variable : math score ( 60 as cutoff for binary classification)\n",
    "                # protected class: Gender\n",
    "                # privileged/unprivileged groups associated: Male/Female\n",
    "                # two fairness metrics calculated : SPD and DI\n",
    "                # classifier used: RandomForestClassifier\n",
    "\n",
    "    Parameters:\n",
    "    - data: The dataset including the protected attribute 'gender'. \n",
    "    - cutoff_score: The cutoff for the binary classification. Defaults to 60.\n",
    "    - Depenent_variable: dependent variable choose for this step. Default to math score.\n",
    "    \n",
    "    Returns:\n",
    "    - accuracy: Accuracy of the classifier.\n",
    "    - spd: Statistical Parity Difference.\n",
    "    - di: Disparate Impact.\n",
    "    \"\"\"\n",
    "\n",
    "    # Prepare the features and target variables\n",
    "    X = data.drop([dependent_variable], axis=1)\n",
    "    y = (data[dependent_variable] >= cutoff_score).astype(int)\n",
    "\n",
    "    # One-hot encoding for categorical columns\n",
    "    categorical_columns = ['gender', 'race/ethnicity', 'parental level of education', 'lunch', 'test preparation course']\n",
    "    X = pd.get_dummies(X, columns=categorical_columns)\n",
    "    \n",
    "    # Split the dataset into training and testing datasets 80/20\n",
    "    X_train, X_test, y_train, y_test = train_test_split(X, y, test_size=0.2, random_state=42)\n",
    "    \n",
    "    # Train the classifier\n",
    "    clf = RandomForestClassifier()\n",
    "    clf.fit(X_train, y_train)\n",
    "    \n",
    "    # Predict on the test set\n",
    "    y_pred = clf.predict(X_test)\n",
    "    \n",
    "    # Compute the accuracy\n",
    "    accuracy = accuracy_score(y_test, y_pred)\n",
    "    \n",
    "    # Create a BinaryLabelDataset for aif360 metrics\n",
    "    test_dataset = BinaryLabelDataset(df=pd.concat((X_test, y_test), axis=1),\n",
    "                                      label_names=[dependent_variable], #outcome of interest\n",
    "                                      protected_attribute_names=['gender_male'], #protected attribute\n",
    "                                      unprivileged_protected_attributes=[0]) #value within the protected attribute is considered unprivileged\n",
    "\n",
    "    test_pred_dataset = test_dataset.copy()\n",
    "    test_pred_dataset.labels = y_pred.reshape(-1, 1) # predict y from test data used to calculated fairness metrics\n",
    "\n",
    "    # Compute fairness metrics\n",
    "    privileged_groups = [{'gender_male': 1}]\n",
    "    unprivileged_groups = [{'gender_male': 0}]\n",
    "    \n",
    "    metric = BinaryLabelDatasetMetric(test_pred_dataset,\n",
    "                                      unprivileged_groups=unprivileged_groups,\n",
    "                                      privileged_groups=privileged_groups)\n",
    "    spd = metric.statistical_parity_difference()\n",
    "    di = metric.disparate_impact()\n",
    "    print(f\"Accuracy: {accuracy}\")\n",
    "    print(f\"Statistical Parity Difference: {spd}\")\n",
    "    print(f\"Disparate Impact: {di}\") "
   ]
  },
  {
   "cell_type": "code",
   "execution_count": 57,
   "id": "c63aa133",
   "metadata": {},
   "outputs": [
    {
     "ename": "FileNotFoundError",
     "evalue": "[Errno 2] No such file or directory: './data/reweighted_dataset.csv'",
     "output_type": "error",
     "traceback": [
      "\u001b[0;31m---------------------------------------------------------------------------\u001b[0m",
      "\u001b[0;31mFileNotFoundError\u001b[0m                         Traceback (most recent call last)",
      "Cell \u001b[0;32mIn[57], line 2\u001b[0m\n\u001b[1;32m      1\u001b[0m original_data \u001b[38;5;241m=\u001b[39m pd\u001b[38;5;241m.\u001b[39mread_csv(\u001b[38;5;124mr\u001b[39m\u001b[38;5;124m'\u001b[39m\u001b[38;5;124m./data/student_performance_prediction_dataset.csv\u001b[39m\u001b[38;5;124m'\u001b[39m)\u001b[38;5;241m.\u001b[39mdrop([\u001b[38;5;124m'\u001b[39m\u001b[38;5;124mreading score\u001b[39m\u001b[38;5;124m'\u001b[39m,\u001b[38;5;124m'\u001b[39m\u001b[38;5;124mwriting score\u001b[39m\u001b[38;5;124m'\u001b[39m], axis\u001b[38;5;241m=\u001b[39m\u001b[38;5;241m1\u001b[39m)\n\u001b[0;32m----> 2\u001b[0m reweight_data \u001b[38;5;241m=\u001b[39m \u001b[43mpd\u001b[49m\u001b[38;5;241;43m.\u001b[39;49m\u001b[43mread_csv\u001b[49m\u001b[43m(\u001b[49m\u001b[38;5;124;43mr\u001b[39;49m\u001b[38;5;124;43m'\u001b[39;49m\u001b[38;5;124;43m./data/reweighted_dataset.csv\u001b[39;49m\u001b[38;5;124;43m'\u001b[39;49m\u001b[43m)\u001b[49m\u001b[38;5;241m.\u001b[39mdrop([\u001b[38;5;124m'\u001b[39m\u001b[38;5;124mmath score\u001b[39m\u001b[38;5;124m'\u001b[39m,\u001b[38;5;124m'\u001b[39m\u001b[38;5;124mreading score\u001b[39m\u001b[38;5;124m'\u001b[39m,\u001b[38;5;124m'\u001b[39m\u001b[38;5;124mwriting score\u001b[39m\u001b[38;5;124m'\u001b[39m,\u001b[38;5;124m'\u001b[39m\u001b[38;5;124mweights\u001b[39m\u001b[38;5;124m'\u001b[39m,\u001b[38;5;124m'\u001b[39m\u001b[38;5;124mreweighted_writing_score\u001b[39m\u001b[38;5;124m'\u001b[39m], axis\u001b[38;5;241m=\u001b[39m\u001b[38;5;241m1\u001b[39m)                \n\u001b[1;32m      4\u001b[0m \u001b[38;5;28mprint\u001b[39m(\u001b[38;5;124m'\u001b[39m\u001b[38;5;124moriginal_data  (no reweighing) result as below:\u001b[39m\u001b[38;5;124m'\u001b[39m)\n\u001b[1;32m      5\u001b[0m evaluate_model(data\u001b[38;5;241m=\u001b[39moriginal_data)\n",
      "File \u001b[0;32m~/Desktop/CS6603/venv/lib/python3.10/site-packages/pandas/io/parsers/readers.py:948\u001b[0m, in \u001b[0;36mread_csv\u001b[0;34m(filepath_or_buffer, sep, delimiter, header, names, index_col, usecols, dtype, engine, converters, true_values, false_values, skipinitialspace, skiprows, skipfooter, nrows, na_values, keep_default_na, na_filter, verbose, skip_blank_lines, parse_dates, infer_datetime_format, keep_date_col, date_parser, date_format, dayfirst, cache_dates, iterator, chunksize, compression, thousands, decimal, lineterminator, quotechar, quoting, doublequote, escapechar, comment, encoding, encoding_errors, dialect, on_bad_lines, delim_whitespace, low_memory, memory_map, float_precision, storage_options, dtype_backend)\u001b[0m\n\u001b[1;32m    935\u001b[0m kwds_defaults \u001b[38;5;241m=\u001b[39m _refine_defaults_read(\n\u001b[1;32m    936\u001b[0m     dialect,\n\u001b[1;32m    937\u001b[0m     delimiter,\n\u001b[0;32m   (...)\u001b[0m\n\u001b[1;32m    944\u001b[0m     dtype_backend\u001b[38;5;241m=\u001b[39mdtype_backend,\n\u001b[1;32m    945\u001b[0m )\n\u001b[1;32m    946\u001b[0m kwds\u001b[38;5;241m.\u001b[39mupdate(kwds_defaults)\n\u001b[0;32m--> 948\u001b[0m \u001b[38;5;28;01mreturn\u001b[39;00m \u001b[43m_read\u001b[49m\u001b[43m(\u001b[49m\u001b[43mfilepath_or_buffer\u001b[49m\u001b[43m,\u001b[49m\u001b[43m \u001b[49m\u001b[43mkwds\u001b[49m\u001b[43m)\u001b[49m\n",
      "File \u001b[0;32m~/Desktop/CS6603/venv/lib/python3.10/site-packages/pandas/io/parsers/readers.py:611\u001b[0m, in \u001b[0;36m_read\u001b[0;34m(filepath_or_buffer, kwds)\u001b[0m\n\u001b[1;32m    608\u001b[0m _validate_names(kwds\u001b[38;5;241m.\u001b[39mget(\u001b[38;5;124m\"\u001b[39m\u001b[38;5;124mnames\u001b[39m\u001b[38;5;124m\"\u001b[39m, \u001b[38;5;28;01mNone\u001b[39;00m))\n\u001b[1;32m    610\u001b[0m \u001b[38;5;66;03m# Create the parser.\u001b[39;00m\n\u001b[0;32m--> 611\u001b[0m parser \u001b[38;5;241m=\u001b[39m \u001b[43mTextFileReader\u001b[49m\u001b[43m(\u001b[49m\u001b[43mfilepath_or_buffer\u001b[49m\u001b[43m,\u001b[49m\u001b[43m \u001b[49m\u001b[38;5;241;43m*\u001b[39;49m\u001b[38;5;241;43m*\u001b[39;49m\u001b[43mkwds\u001b[49m\u001b[43m)\u001b[49m\n\u001b[1;32m    613\u001b[0m \u001b[38;5;28;01mif\u001b[39;00m chunksize \u001b[38;5;129;01mor\u001b[39;00m iterator:\n\u001b[1;32m    614\u001b[0m     \u001b[38;5;28;01mreturn\u001b[39;00m parser\n",
      "File \u001b[0;32m~/Desktop/CS6603/venv/lib/python3.10/site-packages/pandas/io/parsers/readers.py:1448\u001b[0m, in \u001b[0;36mTextFileReader.__init__\u001b[0;34m(self, f, engine, **kwds)\u001b[0m\n\u001b[1;32m   1445\u001b[0m     \u001b[38;5;28mself\u001b[39m\u001b[38;5;241m.\u001b[39moptions[\u001b[38;5;124m\"\u001b[39m\u001b[38;5;124mhas_index_names\u001b[39m\u001b[38;5;124m\"\u001b[39m] \u001b[38;5;241m=\u001b[39m kwds[\u001b[38;5;124m\"\u001b[39m\u001b[38;5;124mhas_index_names\u001b[39m\u001b[38;5;124m\"\u001b[39m]\n\u001b[1;32m   1447\u001b[0m \u001b[38;5;28mself\u001b[39m\u001b[38;5;241m.\u001b[39mhandles: IOHandles \u001b[38;5;241m|\u001b[39m \u001b[38;5;28;01mNone\u001b[39;00m \u001b[38;5;241m=\u001b[39m \u001b[38;5;28;01mNone\u001b[39;00m\n\u001b[0;32m-> 1448\u001b[0m \u001b[38;5;28mself\u001b[39m\u001b[38;5;241m.\u001b[39m_engine \u001b[38;5;241m=\u001b[39m \u001b[38;5;28;43mself\u001b[39;49m\u001b[38;5;241;43m.\u001b[39;49m\u001b[43m_make_engine\u001b[49m\u001b[43m(\u001b[49m\u001b[43mf\u001b[49m\u001b[43m,\u001b[49m\u001b[43m \u001b[49m\u001b[38;5;28;43mself\u001b[39;49m\u001b[38;5;241;43m.\u001b[39;49m\u001b[43mengine\u001b[49m\u001b[43m)\u001b[49m\n",
      "File \u001b[0;32m~/Desktop/CS6603/venv/lib/python3.10/site-packages/pandas/io/parsers/readers.py:1705\u001b[0m, in \u001b[0;36mTextFileReader._make_engine\u001b[0;34m(self, f, engine)\u001b[0m\n\u001b[1;32m   1703\u001b[0m     \u001b[38;5;28;01mif\u001b[39;00m \u001b[38;5;124m\"\u001b[39m\u001b[38;5;124mb\u001b[39m\u001b[38;5;124m\"\u001b[39m \u001b[38;5;129;01mnot\u001b[39;00m \u001b[38;5;129;01min\u001b[39;00m mode:\n\u001b[1;32m   1704\u001b[0m         mode \u001b[38;5;241m+\u001b[39m\u001b[38;5;241m=\u001b[39m \u001b[38;5;124m\"\u001b[39m\u001b[38;5;124mb\u001b[39m\u001b[38;5;124m\"\u001b[39m\n\u001b[0;32m-> 1705\u001b[0m \u001b[38;5;28mself\u001b[39m\u001b[38;5;241m.\u001b[39mhandles \u001b[38;5;241m=\u001b[39m \u001b[43mget_handle\u001b[49m\u001b[43m(\u001b[49m\n\u001b[1;32m   1706\u001b[0m \u001b[43m    \u001b[49m\u001b[43mf\u001b[49m\u001b[43m,\u001b[49m\n\u001b[1;32m   1707\u001b[0m \u001b[43m    \u001b[49m\u001b[43mmode\u001b[49m\u001b[43m,\u001b[49m\n\u001b[1;32m   1708\u001b[0m \u001b[43m    \u001b[49m\u001b[43mencoding\u001b[49m\u001b[38;5;241;43m=\u001b[39;49m\u001b[38;5;28;43mself\u001b[39;49m\u001b[38;5;241;43m.\u001b[39;49m\u001b[43moptions\u001b[49m\u001b[38;5;241;43m.\u001b[39;49m\u001b[43mget\u001b[49m\u001b[43m(\u001b[49m\u001b[38;5;124;43m\"\u001b[39;49m\u001b[38;5;124;43mencoding\u001b[39;49m\u001b[38;5;124;43m\"\u001b[39;49m\u001b[43m,\u001b[49m\u001b[43m \u001b[49m\u001b[38;5;28;43;01mNone\u001b[39;49;00m\u001b[43m)\u001b[49m\u001b[43m,\u001b[49m\n\u001b[1;32m   1709\u001b[0m \u001b[43m    \u001b[49m\u001b[43mcompression\u001b[49m\u001b[38;5;241;43m=\u001b[39;49m\u001b[38;5;28;43mself\u001b[39;49m\u001b[38;5;241;43m.\u001b[39;49m\u001b[43moptions\u001b[49m\u001b[38;5;241;43m.\u001b[39;49m\u001b[43mget\u001b[49m\u001b[43m(\u001b[49m\u001b[38;5;124;43m\"\u001b[39;49m\u001b[38;5;124;43mcompression\u001b[39;49m\u001b[38;5;124;43m\"\u001b[39;49m\u001b[43m,\u001b[49m\u001b[43m \u001b[49m\u001b[38;5;28;43;01mNone\u001b[39;49;00m\u001b[43m)\u001b[49m\u001b[43m,\u001b[49m\n\u001b[1;32m   1710\u001b[0m \u001b[43m    \u001b[49m\u001b[43mmemory_map\u001b[49m\u001b[38;5;241;43m=\u001b[39;49m\u001b[38;5;28;43mself\u001b[39;49m\u001b[38;5;241;43m.\u001b[39;49m\u001b[43moptions\u001b[49m\u001b[38;5;241;43m.\u001b[39;49m\u001b[43mget\u001b[49m\u001b[43m(\u001b[49m\u001b[38;5;124;43m\"\u001b[39;49m\u001b[38;5;124;43mmemory_map\u001b[39;49m\u001b[38;5;124;43m\"\u001b[39;49m\u001b[43m,\u001b[49m\u001b[43m \u001b[49m\u001b[38;5;28;43;01mFalse\u001b[39;49;00m\u001b[43m)\u001b[49m\u001b[43m,\u001b[49m\n\u001b[1;32m   1711\u001b[0m \u001b[43m    \u001b[49m\u001b[43mis_text\u001b[49m\u001b[38;5;241;43m=\u001b[39;49m\u001b[43mis_text\u001b[49m\u001b[43m,\u001b[49m\n\u001b[1;32m   1712\u001b[0m \u001b[43m    \u001b[49m\u001b[43merrors\u001b[49m\u001b[38;5;241;43m=\u001b[39;49m\u001b[38;5;28;43mself\u001b[39;49m\u001b[38;5;241;43m.\u001b[39;49m\u001b[43moptions\u001b[49m\u001b[38;5;241;43m.\u001b[39;49m\u001b[43mget\u001b[49m\u001b[43m(\u001b[49m\u001b[38;5;124;43m\"\u001b[39;49m\u001b[38;5;124;43mencoding_errors\u001b[39;49m\u001b[38;5;124;43m\"\u001b[39;49m\u001b[43m,\u001b[49m\u001b[43m \u001b[49m\u001b[38;5;124;43m\"\u001b[39;49m\u001b[38;5;124;43mstrict\u001b[39;49m\u001b[38;5;124;43m\"\u001b[39;49m\u001b[43m)\u001b[49m\u001b[43m,\u001b[49m\n\u001b[1;32m   1713\u001b[0m \u001b[43m    \u001b[49m\u001b[43mstorage_options\u001b[49m\u001b[38;5;241;43m=\u001b[39;49m\u001b[38;5;28;43mself\u001b[39;49m\u001b[38;5;241;43m.\u001b[39;49m\u001b[43moptions\u001b[49m\u001b[38;5;241;43m.\u001b[39;49m\u001b[43mget\u001b[49m\u001b[43m(\u001b[49m\u001b[38;5;124;43m\"\u001b[39;49m\u001b[38;5;124;43mstorage_options\u001b[39;49m\u001b[38;5;124;43m\"\u001b[39;49m\u001b[43m,\u001b[49m\u001b[43m \u001b[49m\u001b[38;5;28;43;01mNone\u001b[39;49;00m\u001b[43m)\u001b[49m\u001b[43m,\u001b[49m\n\u001b[1;32m   1714\u001b[0m \u001b[43m\u001b[49m\u001b[43m)\u001b[49m\n\u001b[1;32m   1715\u001b[0m \u001b[38;5;28;01massert\u001b[39;00m \u001b[38;5;28mself\u001b[39m\u001b[38;5;241m.\u001b[39mhandles \u001b[38;5;129;01mis\u001b[39;00m \u001b[38;5;129;01mnot\u001b[39;00m \u001b[38;5;28;01mNone\u001b[39;00m\n\u001b[1;32m   1716\u001b[0m f \u001b[38;5;241m=\u001b[39m \u001b[38;5;28mself\u001b[39m\u001b[38;5;241m.\u001b[39mhandles\u001b[38;5;241m.\u001b[39mhandle\n",
      "File \u001b[0;32m~/Desktop/CS6603/venv/lib/python3.10/site-packages/pandas/io/common.py:863\u001b[0m, in \u001b[0;36mget_handle\u001b[0;34m(path_or_buf, mode, encoding, compression, memory_map, is_text, errors, storage_options)\u001b[0m\n\u001b[1;32m    858\u001b[0m \u001b[38;5;28;01melif\u001b[39;00m \u001b[38;5;28misinstance\u001b[39m(handle, \u001b[38;5;28mstr\u001b[39m):\n\u001b[1;32m    859\u001b[0m     \u001b[38;5;66;03m# Check whether the filename is to be opened in binary mode.\u001b[39;00m\n\u001b[1;32m    860\u001b[0m     \u001b[38;5;66;03m# Binary mode does not support 'encoding' and 'newline'.\u001b[39;00m\n\u001b[1;32m    861\u001b[0m     \u001b[38;5;28;01mif\u001b[39;00m ioargs\u001b[38;5;241m.\u001b[39mencoding \u001b[38;5;129;01mand\u001b[39;00m \u001b[38;5;124m\"\u001b[39m\u001b[38;5;124mb\u001b[39m\u001b[38;5;124m\"\u001b[39m \u001b[38;5;129;01mnot\u001b[39;00m \u001b[38;5;129;01min\u001b[39;00m ioargs\u001b[38;5;241m.\u001b[39mmode:\n\u001b[1;32m    862\u001b[0m         \u001b[38;5;66;03m# Encoding\u001b[39;00m\n\u001b[0;32m--> 863\u001b[0m         handle \u001b[38;5;241m=\u001b[39m \u001b[38;5;28;43mopen\u001b[39;49m\u001b[43m(\u001b[49m\n\u001b[1;32m    864\u001b[0m \u001b[43m            \u001b[49m\u001b[43mhandle\u001b[49m\u001b[43m,\u001b[49m\n\u001b[1;32m    865\u001b[0m \u001b[43m            \u001b[49m\u001b[43mioargs\u001b[49m\u001b[38;5;241;43m.\u001b[39;49m\u001b[43mmode\u001b[49m\u001b[43m,\u001b[49m\n\u001b[1;32m    866\u001b[0m \u001b[43m            \u001b[49m\u001b[43mencoding\u001b[49m\u001b[38;5;241;43m=\u001b[39;49m\u001b[43mioargs\u001b[49m\u001b[38;5;241;43m.\u001b[39;49m\u001b[43mencoding\u001b[49m\u001b[43m,\u001b[49m\n\u001b[1;32m    867\u001b[0m \u001b[43m            \u001b[49m\u001b[43merrors\u001b[49m\u001b[38;5;241;43m=\u001b[39;49m\u001b[43merrors\u001b[49m\u001b[43m,\u001b[49m\n\u001b[1;32m    868\u001b[0m \u001b[43m            \u001b[49m\u001b[43mnewline\u001b[49m\u001b[38;5;241;43m=\u001b[39;49m\u001b[38;5;124;43m\"\u001b[39;49m\u001b[38;5;124;43m\"\u001b[39;49m\u001b[43m,\u001b[49m\n\u001b[1;32m    869\u001b[0m \u001b[43m        \u001b[49m\u001b[43m)\u001b[49m\n\u001b[1;32m    870\u001b[0m     \u001b[38;5;28;01melse\u001b[39;00m:\n\u001b[1;32m    871\u001b[0m         \u001b[38;5;66;03m# Binary mode\u001b[39;00m\n\u001b[1;32m    872\u001b[0m         handle \u001b[38;5;241m=\u001b[39m \u001b[38;5;28mopen\u001b[39m(handle, ioargs\u001b[38;5;241m.\u001b[39mmode)\n",
      "\u001b[0;31mFileNotFoundError\u001b[0m: [Errno 2] No such file or directory: './data/reweighted_dataset.csv'"
     ]
    }
   ],
   "source": [
    "original_data = pd.read_csv(r'./data/student_performance_prediction_dataset.csv').drop(['reading score','writing score'], axis=1)\n",
    "reweight_data = pd.read_csv(r'./data/reweighted_dataset.csv').drop(['math score','reading score','writing score','weights','reweighted_writing_score'], axis=1)                \n",
    "\n",
    "print('original_data  (no reweighing) result as below:')\n",
    "evaluate_model(data=original_data)\n",
    "print('')\n",
    "print('reweighing data result as below:')\n",
    "evaluate_model(data=reweight_data,dependent_variable='reweighted_math_score')\n",
    " "
   ]
  }
 ],
 "metadata": {
  "kernelspec": {
   "display_name": "venv",
   "language": "python",
   "name": "venv"
  },
  "language_info": {
   "codemirror_mode": {
    "name": "ipython",
    "version": 3
   },
   "file_extension": ".py",
   "mimetype": "text/x-python",
   "name": "python",
   "nbconvert_exporter": "python",
   "pygments_lexer": "ipython3",
   "version": "3.10.11"
  }
 },
 "nbformat": 4,
 "nbformat_minor": 5
}
