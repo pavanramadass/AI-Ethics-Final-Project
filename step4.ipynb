{
 "cells": [
  {
   "cell_type": "code",
   "execution_count": null,
   "metadata": {},
   "outputs": [],
   "source": [
    "import pandas as pd\n",
    "from sklearn.model_selection import train_test_split\n",
    "from sklearn.metrics import accuracy_score\n",
    "from aif360.metrics import BinaryLabelDatasetMetric\n",
    "from aif360.datasets import BinaryLabelDataset\n",
    "from sklearn.ensemble import RandomForestClassifier\n",
    "\n",
    "\n",
    "\n",
    "def evaluate_model(data, cutoff_score=60, dependent_variable='math score'):\n",
    "    \"\"\"\n",
    "    Step 4 - training classifier and get fairness metrics.\n",
    "                # dependent variable : math score ( 60 as cutoff for binary classification)\n",
    "                # protected class: Gender\n",
    "                # privileged/unprivileged groups associated: Male/Female\n",
    "                # two fairness metrics calculated : SPD and DI\n",
    "                # classifier used: RandomForestClassifier\n",
    "\n",
    "    Parameters:\n",
    "    - data: The dataset including the protected attribute 'gender'. \n",
    "    - cutoff_score: The cutoff for the binary classification. Defaults to 60.\n",
    "    - Depenent_variable: dependent variable choose for this step. Default to math score.\n",
    "    \n",
    "    Returns:\n",
    "    - accuracy: Accuracy of the classifier.\n",
    "    - spd: Statistical Parity Difference.\n",
    "    - di: Disparate Impact.\n",
    "    \"\"\"\n",
    "\n",
    "    # Prepare the features and target variables\n",
    "    X = data.drop([dependent_variable], axis=1)\n",
    "    y = (data[dependent_variable] >= cutoff_score).astype(int)\n",
    "\n",
    "    # One-hot encoding for categorical columns\n",
    "    categorical_columns = ['gender', 'race/ethnicity', 'parental level of education', 'lunch', 'test preparation course']\n",
    "    X = pd.get_dummies(X, columns=categorical_columns)\n",
    "    \n",
    "    # Split the dataset into training and testing datasets 80/20\n",
    "    X_train, X_test, y_train, y_test = train_test_split(X, y, test_size=0.2, random_state=42)\n",
    "    \n",
    "    # Train the classifier\n",
    "    clf = RandomForestClassifier()\n",
    "    clf.fit(X_train, y_train)\n",
    "    \n",
    "    # Predict on the test set\n",
    "    y_pred = clf.predict(X_test)\n",
    "    \n",
    "    # Compute the accuracy\n",
    "    accuracy = accuracy_score(y_test, y_pred)\n",
    "    \n",
    "    # Create a BinaryLabelDataset for aif360 metrics\n",
    "    test_dataset = BinaryLabelDataset(df=pd.concat((X_test, y_test), axis=1),\n",
    "                                      label_names=[dependent_variable], #outcome of interest\n",
    "                                      protected_attribute_names=['gender_male'], #protected attribute\n",
    "                                      unprivileged_protected_attributes=[0]) #value within the protected attribute is considered unprivileged\n",
    "\n",
    "    test_pred_dataset = test_dataset.copy()\n",
    "    test_pred_dataset.labels = y_pred.reshape(-1, 1) # predict y from test data used to calculated fairness metrics\n",
    "\n",
    "    # Compute fairness metrics\n",
    "    privileged_groups = [{'gender_male': 1}]\n",
    "    unprivileged_groups = [{'gender_male': 0}]\n",
    "    \n",
    "    metric = BinaryLabelDatasetMetric(test_pred_dataset,\n",
    "                                      unprivileged_groups=unprivileged_groups,\n",
    "                                      privileged_groups=privileged_groups)\n",
    "    spd = metric.statistical_parity_difference()\n",
    "    di = metric.disparate_impact()\n",
    "    print(f\"Accuracy: {accuracy}\")\n",
    "    print(f\"Statistical Parity Difference: {spd}\")\n",
    "    print(f\"Disparate Impact: {di}\")\n",
    "    return accuracy, spd, di"
   ]
  },
  {
   "cell_type": "code",
   "execution_count": 7,
   "metadata": {},
   "outputs": [
    {
     "name": "stdout",
     "output_type": "stream",
     "text": [
      "original_data  (no reweighing) result as below:\n",
      "Accuracy: 0.71\n",
      "Statistical Parity Difference: -0.11729323308270678\n",
      "Disparate Impact: 0.8675721561969439\n"
     ]
    }
   ],
   "source": [
    "original_data = pd.read_csv(r'./data/student_performance_prediction_dataset.csv').drop(['reading score','writing score'], axis=1)\n",
    "# reweight_data = pd.read_csv() \n",
    "\n",
    "print('original_data  (no reweighing) result as below:')\n",
    "accuracy, spd, di = evaluate_model(data=original_data)\n",
    " \n",
    "# print('Reweigh data result as below:')\n",
    "# accuracy, spd, di = evaluate_model(data=reweight_data)"
   ]
  }
 ],
 "metadata": {
  "kernelspec": {
   "display_name": "homework",
   "language": "python",
   "name": "python3"
  },
  "language_info": {
   "codemirror_mode": {
    "name": "ipython",
    "version": 3
   },
   "file_extension": ".py",
   "mimetype": "text/x-python",
   "name": "python",
   "nbconvert_exporter": "python",
   "pygments_lexer": "ipython3",
   "version": "3.7.13"
  }
 },
 "nbformat": 4,
 "nbformat_minor": 2
}
