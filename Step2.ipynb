{
 "cells": [
  {
   "cell_type": "markdown",
   "id": "4ed96e78-dc43-4faa-b3dd-3e1c73b9dacb",
   "metadata": {},
   "source": [
    "# Step 2"
   ]
  },
  {
   "cell_type": "code",
   "execution_count": 2,
   "id": "d4e46350-8be2-462e-854d-9aca92104922",
   "metadata": {},
   "outputs": [],
   "source": [
    "import pandas as pd"
   ]
  },
  {
   "cell_type": "code",
   "execution_count": 3,
   "id": "c62e07ee-674d-424c-b867-36a13996386b",
   "metadata": {},
   "outputs": [
    {
     "data": {
      "text/html": [
       "<div>\n",
       "<style scoped>\n",
       "    .dataframe tbody tr th:only-of-type {\n",
       "        vertical-align: middle;\n",
       "    }\n",
       "\n",
       "    .dataframe tbody tr th {\n",
       "        vertical-align: top;\n",
       "    }\n",
       "\n",
       "    .dataframe thead th {\n",
       "        text-align: right;\n",
       "    }\n",
       "</style>\n",
       "<table border=\"1\" class=\"dataframe\">\n",
       "  <thead>\n",
       "    <tr style=\"text-align: right;\">\n",
       "      <th></th>\n",
       "      <th>gender</th>\n",
       "      <th>race/ethnicity</th>\n",
       "      <th>parental level of education</th>\n",
       "      <th>lunch</th>\n",
       "      <th>test preparation course</th>\n",
       "      <th>math score</th>\n",
       "      <th>reading score</th>\n",
       "      <th>writing score</th>\n",
       "    </tr>\n",
       "  </thead>\n",
       "  <tbody>\n",
       "    <tr>\n",
       "      <th>0</th>\n",
       "      <td>female</td>\n",
       "      <td>group D</td>\n",
       "      <td>some college</td>\n",
       "      <td>standard</td>\n",
       "      <td>completed</td>\n",
       "      <td>59</td>\n",
       "      <td>70</td>\n",
       "      <td>78</td>\n",
       "    </tr>\n",
       "    <tr>\n",
       "      <th>1</th>\n",
       "      <td>male</td>\n",
       "      <td>group D</td>\n",
       "      <td>associate's degree</td>\n",
       "      <td>standard</td>\n",
       "      <td>none</td>\n",
       "      <td>96</td>\n",
       "      <td>93</td>\n",
       "      <td>87</td>\n",
       "    </tr>\n",
       "    <tr>\n",
       "      <th>2</th>\n",
       "      <td>female</td>\n",
       "      <td>group D</td>\n",
       "      <td>some college</td>\n",
       "      <td>free/reduced</td>\n",
       "      <td>none</td>\n",
       "      <td>57</td>\n",
       "      <td>76</td>\n",
       "      <td>77</td>\n",
       "    </tr>\n",
       "    <tr>\n",
       "      <th>3</th>\n",
       "      <td>male</td>\n",
       "      <td>group B</td>\n",
       "      <td>some college</td>\n",
       "      <td>free/reduced</td>\n",
       "      <td>none</td>\n",
       "      <td>70</td>\n",
       "      <td>70</td>\n",
       "      <td>63</td>\n",
       "    </tr>\n",
       "    <tr>\n",
       "      <th>4</th>\n",
       "      <td>female</td>\n",
       "      <td>group D</td>\n",
       "      <td>associate's degree</td>\n",
       "      <td>standard</td>\n",
       "      <td>none</td>\n",
       "      <td>83</td>\n",
       "      <td>85</td>\n",
       "      <td>86</td>\n",
       "    </tr>\n",
       "  </tbody>\n",
       "</table>\n",
       "</div>"
      ],
      "text/plain": [
       "   gender race/ethnicity parental level of education         lunch  \\\n",
       "0  female        group D                some college      standard   \n",
       "1    male        group D          associate's degree      standard   \n",
       "2  female        group D                some college  free/reduced   \n",
       "3    male        group B                some college  free/reduced   \n",
       "4  female        group D          associate's degree      standard   \n",
       "\n",
       "  test preparation course  math score  reading score  writing score  \n",
       "0               completed          59             70             78  \n",
       "1                    none          96             93             87  \n",
       "2                    none          57             76             77  \n",
       "3                    none          70             70             63  \n",
       "4                    none          83             85             86  "
      ]
     },
     "execution_count": 3,
     "metadata": {},
     "output_type": "execute_result"
    }
   ],
   "source": [
    "# Read dataset\n",
    "data = pd.read_csv(\"./data/student_performance_prediction_dataset.csv\")\n",
    "data.head()"
   ]
  },
  {
   "cell_type": "markdown",
   "id": "13f70447-e8a5-4950-95f3-554a134f22d8",
   "metadata": {},
   "source": [
    "## 1. Identify the members associated with your protected class variables and group together into a subset of membership categories as appropriate"
   ]
  },
  {
   "cell_type": "code",
   "execution_count": 23,
   "id": "4851593f-25ae-47eb-bf82-c52595350ba1",
   "metadata": {},
   "outputs": [
    {
     "name": "stdout",
     "output_type": "stream",
     "text": [
      "Gender: ['female', 'male']\n",
      "Categories (2, object): ['female', 'male']\n",
      "Race/Ethnicity: ['group D', 'group B', 'group C', 'group E', 'group A']\n",
      "Categories (5, object): ['group A', 'group B', 'group C', 'group D', 'group E']\n"
     ]
    }
   ],
   "source": [
    "data[\"gender\"] = data[\"gender\"].astype('category')\n",
    "print(f'Gender: {data[\"gender\"].unique()}')\n",
    "data[\"race/ethnicity\"] = data[\"race/ethnicity\"].astype('category')\n",
    "print(f'Race/Ethnicity: {data[\"race/ethnicity\"].unique()}')"
   ]
  },
  {
   "cell_type": "markdown",
   "id": "a64b7e55-c474-4bfd-818e-97e57286404f",
   "metadata": {},
   "source": [
    "## 2. Discretize the values associated with your dependent variables into discrete categories/numerical values as appropriate"
   ]
  },
  {
   "cell_type": "code",
   "execution_count": 26,
   "id": "a076ea31-2942-473e-8ee0-8f04bfa22608",
   "metadata": {},
   "outputs": [
    {
     "name": "stdout",
     "output_type": "stream",
     "text": [
      "['F', 'A', 'C', 'B', 'D']\n",
      "Categories (5, object): ['F' < 'D' < 'C' < 'B' < 'A']\n"
     ]
    }
   ],
   "source": [
    "data[\"math score discrete\"] = pd.cut(\n",
    "    x = data[\"math score\"],\n",
    "    bins = [0, 59, 69, 79, 89, 100],\n",
    "    right = True,\n",
    "    labels = [\"F\", \"D\", \"C\", \"B\", \"A\"]\n",
    ").astype(\"category\")\n",
    "print(data[\"math score discrete\"].unique())"
   ]
  },
  {
   "cell_type": "code",
   "execution_count": 18,
   "id": "bd18883e-87a7-410a-82dd-c45d668f727a",
   "metadata": {},
   "outputs": [
    {
     "name": "stdout",
     "output_type": "stream",
     "text": [
      "['C', 'A', 'B', 'F', 'D']\n",
      "Categories (5, object): ['F' < 'D' < 'C' < 'B' < 'A']\n"
     ]
    }
   ],
   "source": [
    "data[\"reading score discrete\"] = pd.cut(\n",
    "    x = data[\"reading score\"],\n",
    "    bins = [0, 59, 69, 79, 89, 100],\n",
    "    right = True,\n",
    "    labels = [\"F\", \"D\", \"C\", \"B\", \"A\"]\n",
    ").astype(\"category\")\n",
    "print(data[\"reading score discrete\"].unique())"
   ]
  },
  {
   "cell_type": "code",
   "execution_count": 19,
   "id": "a22ae17e-4b64-4b39-ab6e-26f15a7d1a28",
   "metadata": {},
   "outputs": [
    {
     "name": "stdout",
     "output_type": "stream",
     "text": [
      "['C', 'B', 'D', 'F', 'A']\n",
      "Categories (5, object): ['F' < 'D' < 'C' < 'B' < 'A']\n"
     ]
    }
   ],
   "source": [
    "data[\"writing score discrete\"] = pd.cut(\n",
    "    x = data[\"writing score\"],\n",
    "    bins = [0, 59, 69, 79, 89, 100],\n",
    "    right = True,\n",
    "    labels = [\"F\", \"D\", \"C\", \"B\", \"A\"]\n",
    ").astype(\"category\")\n",
    "print(data[\"writing score discrete\"].unique())"
   ]
  },
  {
   "cell_type": "code",
   "execution_count": 41,
   "id": "7f9bd670-cd49-4a28-bd28-ec346aab1b21",
   "metadata": {},
   "outputs": [],
   "source": [
    "# Export the discretized dataset for future analysis\n",
    "# data.to_csv(\"./data/student_performance_prediction_dataset_discrete.csv\")"
   ]
  },
  {
   "cell_type": "markdown",
   "id": "c60e289a-a27b-431f-9edf-69482126ad67",
   "metadata": {},
   "source": [
    "## 3. Compute the frequency of each membership category associated with each of your protected class variables from Step 2.1"
   ]
  },
  {
   "cell_type": "code",
   "execution_count": 20,
   "id": "d86f243e-7607-4ac4-a8de-c8464fd78fae",
   "metadata": {},
   "outputs": [
    {
     "data": {
      "text/html": [
       "<div>\n",
       "<style scoped>\n",
       "    .dataframe tbody tr th:only-of-type {\n",
       "        vertical-align: middle;\n",
       "    }\n",
       "\n",
       "    .dataframe tbody tr th {\n",
       "        vertical-align: top;\n",
       "    }\n",
       "\n",
       "    .dataframe thead th {\n",
       "        text-align: right;\n",
       "    }\n",
       "</style>\n",
       "<table border=\"1\" class=\"dataframe\">\n",
       "  <thead>\n",
       "    <tr style=\"text-align: right;\">\n",
       "      <th></th>\n",
       "      <th>gender</th>\n",
       "      <th>race/ethnicity</th>\n",
       "      <th>parental level of education</th>\n",
       "      <th>lunch</th>\n",
       "      <th>test preparation course</th>\n",
       "      <th>math score</th>\n",
       "      <th>reading score</th>\n",
       "      <th>writing score</th>\n",
       "      <th>math score discrete</th>\n",
       "      <th>reading score discrete</th>\n",
       "      <th>writing score discrete</th>\n",
       "    </tr>\n",
       "  </thead>\n",
       "  <tbody>\n",
       "    <tr>\n",
       "      <th>0</th>\n",
       "      <td>female</td>\n",
       "      <td>group D</td>\n",
       "      <td>some college</td>\n",
       "      <td>standard</td>\n",
       "      <td>completed</td>\n",
       "      <td>59</td>\n",
       "      <td>70</td>\n",
       "      <td>78</td>\n",
       "      <td>F</td>\n",
       "      <td>C</td>\n",
       "      <td>C</td>\n",
       "    </tr>\n",
       "    <tr>\n",
       "      <th>1</th>\n",
       "      <td>male</td>\n",
       "      <td>group D</td>\n",
       "      <td>associate's degree</td>\n",
       "      <td>standard</td>\n",
       "      <td>none</td>\n",
       "      <td>96</td>\n",
       "      <td>93</td>\n",
       "      <td>87</td>\n",
       "      <td>A</td>\n",
       "      <td>A</td>\n",
       "      <td>B</td>\n",
       "    </tr>\n",
       "    <tr>\n",
       "      <th>2</th>\n",
       "      <td>female</td>\n",
       "      <td>group D</td>\n",
       "      <td>some college</td>\n",
       "      <td>free/reduced</td>\n",
       "      <td>none</td>\n",
       "      <td>57</td>\n",
       "      <td>76</td>\n",
       "      <td>77</td>\n",
       "      <td>F</td>\n",
       "      <td>C</td>\n",
       "      <td>C</td>\n",
       "    </tr>\n",
       "    <tr>\n",
       "      <th>3</th>\n",
       "      <td>male</td>\n",
       "      <td>group B</td>\n",
       "      <td>some college</td>\n",
       "      <td>free/reduced</td>\n",
       "      <td>none</td>\n",
       "      <td>70</td>\n",
       "      <td>70</td>\n",
       "      <td>63</td>\n",
       "      <td>C</td>\n",
       "      <td>C</td>\n",
       "      <td>D</td>\n",
       "    </tr>\n",
       "    <tr>\n",
       "      <th>4</th>\n",
       "      <td>female</td>\n",
       "      <td>group D</td>\n",
       "      <td>associate's degree</td>\n",
       "      <td>standard</td>\n",
       "      <td>none</td>\n",
       "      <td>83</td>\n",
       "      <td>85</td>\n",
       "      <td>86</td>\n",
       "      <td>B</td>\n",
       "      <td>B</td>\n",
       "      <td>B</td>\n",
       "    </tr>\n",
       "  </tbody>\n",
       "</table>\n",
       "</div>"
      ],
      "text/plain": [
       "   gender race/ethnicity parental level of education         lunch  \\\n",
       "0  female        group D                some college      standard   \n",
       "1    male        group D          associate's degree      standard   \n",
       "2  female        group D                some college  free/reduced   \n",
       "3    male        group B                some college  free/reduced   \n",
       "4  female        group D          associate's degree      standard   \n",
       "\n",
       "  test preparation course  math score  reading score  writing score  \\\n",
       "0               completed          59             70             78   \n",
       "1                    none          96             93             87   \n",
       "2                    none          57             76             77   \n",
       "3                    none          70             70             63   \n",
       "4                    none          83             85             86   \n",
       "\n",
       "  math score discrete reading score discrete writing score discrete  \n",
       "0                   F                      C                      C  \n",
       "1                   A                      A                      B  \n",
       "2                   F                      C                      C  \n",
       "3                   C                      C                      D  \n",
       "4                   B                      B                      B  "
      ]
     },
     "execution_count": 20,
     "metadata": {},
     "output_type": "execute_result"
    }
   ],
   "source": [
    "data.head()"
   ]
  },
  {
   "cell_type": "code",
   "execution_count": 29,
   "id": "237dd116-58e8-429f-807b-7622f7191123",
   "metadata": {},
   "outputs": [
    {
     "data": {
      "text/plain": [
       "gender\n",
       "female    492\n",
       "male      508\n",
       "dtype: int64"
      ]
     },
     "execution_count": 29,
     "metadata": {},
     "output_type": "execute_result"
    }
   ],
   "source": [
    "data.groupby([\"gender\"], observed=True).size()"
   ]
  },
  {
   "cell_type": "code",
   "execution_count": 30,
   "id": "9692510e-24d7-458d-a3fd-4a9a9b73b4e8",
   "metadata": {},
   "outputs": [
    {
     "data": {
      "text/plain": [
       "race/ethnicity\n",
       "group A     79\n",
       "group B    198\n",
       "group C    323\n",
       "group D    257\n",
       "group E    143\n",
       "dtype: int64"
      ]
     },
     "execution_count": 30,
     "metadata": {},
     "output_type": "execute_result"
    }
   ],
   "source": [
    "data.groupby([\"race/ethnicity\"], observed=True).size()"
   ]
  },
  {
   "cell_type": "markdown",
   "id": "1a533a0c-f020-45f3-94f9-61bb87806180",
   "metadata": {},
   "source": [
    "## 4. Create a histogram for each protected class variable that graphs the frequency values of its membership categories as a function of the dependent variables"
   ]
  },
  {
   "cell_type": "markdown",
   "id": "65796057-4402-4643-b708-e74eb6ef7909",
   "metadata": {},
   "source": [
    "#### Gender"
   ]
  },
  {
   "cell_type": "code",
   "execution_count": 38,
   "id": "446a8c68-a9ea-48ed-b9ee-ab5ce0a4537c",
   "metadata": {},
   "outputs": [
    {
     "data": {
      "text/plain": [
       "<Axes: xlabel='gender'>"
      ]
     },
     "execution_count": 38,
     "metadata": {},
     "output_type": "execute_result"
    },
    {
     "data": {
      "image/png": "[encoded data removed]",
      "text/plain": [
       "<Figure size 640x480 with 1 Axes>"
      ]
     },
     "metadata": {},
     "output_type": "display_data"
    }
   ],
   "source": [
    "df_grouped = data.groupby([\"gender\", \"math score discrete\"], observed=True).size()\n",
    "df_grouped.unstack().plot.bar()"
   ]
  },
  {
   "cell_type": "code",
   "execution_count": 32,
   "id": "ac457286-ccbf-41f2-8604-dcaf82221d08",
   "metadata": {},
   "outputs": [
    {
     "data": {
      "text/plain": [
       "<Axes: xlabel='gender'>"
      ]
     },
     "execution_count": 32,
     "metadata": {},
     "output_type": "execute_result"
    },
    {
     "data": {
      "image/png": "[encoded data removed]",
      "text/plain": [
       "<Figure size 640x480 with 1 Axes>"
      ]
     },
     "metadata": {},
     "output_type": "display_data"
    }
   ],
   "source": [
    "df_grouped = data.groupby([\"gender\", \"reading score discrete\"], observed=True).size()\n",
    "df_grouped.unstack().plot.bar()"
   ]
  },
  {
   "cell_type": "code",
   "execution_count": 33,
   "id": "b821844f-70d7-48bf-ab2f-e181782989c8",
   "metadata": {},
   "outputs": [
    {
     "data": {
      "text/plain": [
       "<Axes: xlabel='gender'>"
      ]
     },
     "execution_count": 33,
     "metadata": {},
     "output_type": "execute_result"
    },
    {
     "data": {
      "image/png": "[encoded data removed]",
      "text/plain": [
       "<Figure size 640x480 with 1 Axes>"
      ]
     },
     "metadata": {},
     "output_type": "display_data"
    }
   ],
   "source": [
    "df_grouped = data.groupby([\"gender\", \"writing score discrete\"], observed=True).size()\n",
    "df_grouped.unstack().plot.bar()"
   ]
  },
  {
   "cell_type": "markdown",
   "id": "32d35335-e0f0-4188-8a21-84daa87e366b",
   "metadata": {},
   "source": [
    "#### Race/Ethnicity"
   ]
  },
  {
   "cell_type": "code",
   "execution_count": 34,
   "id": "f42c96dc-78a3-4642-9020-5ce4a7e750bb",
   "metadata": {},
   "outputs": [
    {
     "data": {
      "text/plain": [
       "<Axes: xlabel='race/ethnicity'>"
      ]
     },
     "execution_count": 34,
     "metadata": {},
     "output_type": "execute_result"
    },
    {
     "data": {
      "image/png": "[encoded data removed]",
      "text/plain": [
       "<Figure size 640x480 with 1 Axes>"
      ]
     },
     "metadata": {},
     "output_type": "display_data"
    }
   ],
   "source": [
    "df_grouped = data.groupby([\"race/ethnicity\", \"math score discrete\"], observed=True).size()\n",
    "df_grouped.unstack().plot.bar()"
   ]
  },
  {
   "cell_type": "code",
   "execution_count": 35,
   "id": "63da3cd0-6df0-4598-8509-2ce508767d30",
   "metadata": {},
   "outputs": [
    {
     "data": {
      "text/plain": [
       "<Axes: xlabel='race/ethnicity'>"
      ]
     },
     "execution_count": 35,
     "metadata": {},
     "output_type": "execute_result"
    },
    {
     "data": {
      "image/png": "[encoded data removed]",
      "text/plain": [
       "<Figure size 640x480 with 1 Axes>"
      ]
     },
     "metadata": {},
     "output_type": "display_data"
    }
   ],
   "source": [
    "df_grouped = data.groupby([\"race/ethnicity\", \"reading score discrete\"], observed=True).size()\n",
    "df_grouped.unstack().plot.bar()"
   ]
  },
  {
   "cell_type": "code",
   "execution_count": 36,
   "id": "a44e76b3-cc65-4240-9d0b-a0745bb8fc47",
   "metadata": {},
   "outputs": [
    {
     "data": {
      "text/plain": [
       "<Axes: xlabel='race/ethnicity'>"
      ]
     },
     "execution_count": 36,
     "metadata": {},
     "output_type": "execute_result"
    },
    {
     "data": {
      "image/png": "[encoded data removed]",
      "text/plain": [
       "<Figure size 640x480 with 1 Axes>"
      ]
     },
     "metadata": {},
     "output_type": "display_data"
    }
   ],
   "source": [
    "df_grouped = data.groupby([\"race/ethnicity\", \"writing score discrete\"], observed=True).size()\n",
    "df_grouped.unstack().plot.bar()"
   ]
  }
 ],
 "metadata": {
  "kernelspec": {
   "display_name": "venv",
   "language": "python",
   "name": "venv"
  },
  "language_info": {
   "codemirror_mode": {
    "name": "ipython",
    "version": 3
   },
   "file_extension": ".py",
   "mimetype": "text/x-python",
   "name": "python",
   "nbconvert_exporter": "python",
   "pygments_lexer": "ipython3",
   "version": "3.10.11"
  }
 },
 "nbformat": 4,
 "nbformat_minor": 5
}
